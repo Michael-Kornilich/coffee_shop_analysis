{
 "cells": [
  {
   "cell_type": "code",
   "execution_count": 12,
   "id": "c34fa736-aadd-476a-85aa-c876012ffc26",
   "metadata": {},
   "outputs": [],
   "source": [
    "import pandas as pd\n",
    "import matplotlib.pyplot as plt\n",
    "import kagglehub\n",
    "from pathlib import Path"
   ]
  },
  {
   "cell_type": "code",
   "execution_count": 21,
   "id": "0ef23c8f-c639-43b2-8231-7b8f5c63c453",
   "metadata": {},
   "outputs": [],
   "source": [
    "path = Path(kagglehub.dataset_download(\"ahmedabbas757/coffee-sales\"))/\"Coffee Shop Sales.xlsx\"\n",
    "records = pd.read_excel(path, index_col=\"transaction_id\")"
   ]
  },
  {
   "cell_type": "code",
   "execution_count": 22,
   "id": "0d36bee6-c58c-44ee-b282-707b32686880",
   "metadata": {},
   "outputs": [
    {
     "data": {
      "text/html": [
       "<div>\n",
       "<style scoped>\n",
       "    .dataframe tbody tr th:only-of-type {\n",
       "        vertical-align: middle;\n",
       "    }\n",
       "\n",
       "    .dataframe tbody tr th {\n",
       "        vertical-align: top;\n",
       "    }\n",
       "\n",
       "    .dataframe thead th {\n",
       "        text-align: right;\n",
       "    }\n",
       "</style>\n",
       "<table border=\"1\" class=\"dataframe\">\n",
       "  <thead>\n",
       "    <tr style=\"text-align: right;\">\n",
       "      <th></th>\n",
       "      <th>transaction_datetime</th>\n",
       "      <th>transaction_qty</th>\n",
       "      <th>store_id</th>\n",
       "      <th>store_location</th>\n",
       "      <th>product_id</th>\n",
       "      <th>unit_price</th>\n",
       "      <th>product_category</th>\n",
       "      <th>product_type</th>\n",
       "      <th>product_detail</th>\n",
       "    </tr>\n",
       "    <tr>\n",
       "      <th>transaction_id</th>\n",
       "      <th></th>\n",
       "      <th></th>\n",
       "      <th></th>\n",
       "      <th></th>\n",
       "      <th></th>\n",
       "      <th></th>\n",
       "      <th></th>\n",
       "      <th></th>\n",
       "      <th></th>\n",
       "    </tr>\n",
       "  </thead>\n",
       "  <tbody>\n",
       "    <tr>\n",
       "      <th>1</th>\n",
       "      <td>2023-01-01 07:06:11</td>\n",
       "      <td>2</td>\n",
       "      <td>5</td>\n",
       "      <td>Lower Manhattan</td>\n",
       "      <td>32</td>\n",
       "      <td>3.0</td>\n",
       "      <td>Coffee</td>\n",
       "      <td>Gourmet brewed coffee</td>\n",
       "      <td>Ethiopia Rg</td>\n",
       "    </tr>\n",
       "    <tr>\n",
       "      <th>2</th>\n",
       "      <td>2023-01-01 07:08:56</td>\n",
       "      <td>2</td>\n",
       "      <td>5</td>\n",
       "      <td>Lower Manhattan</td>\n",
       "      <td>57</td>\n",
       "      <td>3.1</td>\n",
       "      <td>Tea</td>\n",
       "      <td>Brewed Chai tea</td>\n",
       "      <td>Spicy Eye Opener Chai Lg</td>\n",
       "    </tr>\n",
       "    <tr>\n",
       "      <th>3</th>\n",
       "      <td>2023-01-01 07:14:04</td>\n",
       "      <td>2</td>\n",
       "      <td>5</td>\n",
       "      <td>Lower Manhattan</td>\n",
       "      <td>59</td>\n",
       "      <td>4.5</td>\n",
       "      <td>Drinking Chocolate</td>\n",
       "      <td>Hot chocolate</td>\n",
       "      <td>Dark chocolate Lg</td>\n",
       "    </tr>\n",
       "    <tr>\n",
       "      <th>4</th>\n",
       "      <td>2023-01-01 07:20:24</td>\n",
       "      <td>1</td>\n",
       "      <td>5</td>\n",
       "      <td>Lower Manhattan</td>\n",
       "      <td>22</td>\n",
       "      <td>2.0</td>\n",
       "      <td>Coffee</td>\n",
       "      <td>Drip coffee</td>\n",
       "      <td>Our Old Time Diner Blend Sm</td>\n",
       "    </tr>\n",
       "    <tr>\n",
       "      <th>5</th>\n",
       "      <td>2023-01-01 07:22:41</td>\n",
       "      <td>2</td>\n",
       "      <td>5</td>\n",
       "      <td>Lower Manhattan</td>\n",
       "      <td>57</td>\n",
       "      <td>3.1</td>\n",
       "      <td>Tea</td>\n",
       "      <td>Brewed Chai tea</td>\n",
       "      <td>Spicy Eye Opener Chai Lg</td>\n",
       "    </tr>\n",
       "  </tbody>\n",
       "</table>\n",
       "</div>"
      ],
      "text/plain": [
       "               transaction_datetime  transaction_qty  store_id  \\\n",
       "transaction_id                                                   \n",
       "1               2023-01-01 07:06:11                2         5   \n",
       "2               2023-01-01 07:08:56                2         5   \n",
       "3               2023-01-01 07:14:04                2         5   \n",
       "4               2023-01-01 07:20:24                1         5   \n",
       "5               2023-01-01 07:22:41                2         5   \n",
       "\n",
       "                 store_location  product_id  unit_price    product_category  \\\n",
       "transaction_id                                                                \n",
       "1               Lower Manhattan          32         3.0              Coffee   \n",
       "2               Lower Manhattan          57         3.1                 Tea   \n",
       "3               Lower Manhattan          59         4.5  Drinking Chocolate   \n",
       "4               Lower Manhattan          22         2.0              Coffee   \n",
       "5               Lower Manhattan          57         3.1                 Tea   \n",
       "\n",
       "                         product_type               product_detail  \n",
       "transaction_id                                                      \n",
       "1               Gourmet brewed coffee                  Ethiopia Rg  \n",
       "2                     Brewed Chai tea     Spicy Eye Opener Chai Lg  \n",
       "3                       Hot chocolate            Dark chocolate Lg  \n",
       "4                         Drip coffee  Our Old Time Diner Blend Sm  \n",
       "5                     Brewed Chai tea     Spicy Eye Opener Chai Lg  "
      ]
     },
     "execution_count": 22,
     "metadata": {},
     "output_type": "execute_result"
    }
   ],
   "source": [
    "transaction_datetime = pd.to_datetime(records[\"transaction_date\"].astype(str) + \" \" + records[\"transaction_time\"].astype(str))\n",
    "transaction_datetime = pd.Series(transaction_datetime, name=\"transaction_datetime\",index=None)\n",
    "\n",
    "records = records.reindex([\n",
    "    \"transaction_datetime\", 'transaction_qty', 'store_id', \n",
    "    'store_location', 'product_id', 'unit_price', \n",
    "    'product_category', 'product_type', 'product_detail'], axis=\"columns\")\n",
    "\n",
    "records[\"transaction_datetime\"] = transaction_datetime\n",
    "records.sort_values(\"transaction_datetime\", inplace=True)\n",
    "\n",
    "columns = [\"store_location\",\"product_category\",\"product_type\", \"product_detail\"]\n",
    "records[columns] = records.loc[:,columns].astype(\"category\")\n",
    "\n",
    "records.head()"
   ]
  },
  {
   "cell_type": "code",
   "execution_count": 23,
   "id": "d3cbfac1-98d5-4a7b-a73c-4d878371138b",
   "metadata": {},
   "outputs": [
    {
     "name": "stdout",
     "output_type": "stream",
     "text": [
      "<class 'pandas.core.frame.DataFrame'>\n",
      "Index: 149116 entries, 1 to 149456\n",
      "Data columns (total 9 columns):\n",
      " #   Column                Non-Null Count   Dtype         \n",
      "---  ------                --------------   -----         \n",
      " 0   transaction_datetime  149116 non-null  datetime64[ns]\n",
      " 1   transaction_qty       149116 non-null  int64         \n",
      " 2   store_id              149116 non-null  int64         \n",
      " 3   store_location        149116 non-null  category      \n",
      " 4   product_id            149116 non-null  int64         \n",
      " 5   unit_price            149116 non-null  float64       \n",
      " 6   product_category      149116 non-null  category      \n",
      " 7   product_type          149116 non-null  category      \n",
      " 8   product_detail        149116 non-null  category      \n",
      "dtypes: category(4), datetime64[ns](1), float64(1), int64(3)\n",
      "memory usage: 7.4 MB\n"
     ]
    }
   ],
   "source": [
    "records.info()"
   ]
  },
  {
   "cell_type": "code",
   "execution_count": 54,
   "id": "8bf27b58-c057-4613-82f6-fad9b7fb90fe",
   "metadata": {},
   "outputs": [
    {
     "data": {
      "text/html": [
       "<div>\n",
       "<style scoped>\n",
       "    .dataframe tbody tr th:only-of-type {\n",
       "        vertical-align: middle;\n",
       "    }\n",
       "\n",
       "    .dataframe tbody tr th {\n",
       "        vertical-align: top;\n",
       "    }\n",
       "\n",
       "    .dataframe thead th {\n",
       "        text-align: right;\n",
       "    }\n",
       "</style>\n",
       "<table border=\"1\" class=\"dataframe\">\n",
       "  <thead>\n",
       "    <tr style=\"text-align: right;\">\n",
       "      <th>product_type</th>\n",
       "      <th>Barista Espresso</th>\n",
       "      <th>Drip coffee</th>\n",
       "      <th>Gourmet brewed coffee</th>\n",
       "      <th>Organic brewed coffee</th>\n",
       "      <th>Premium brewed coffee</th>\n",
       "    </tr>\n",
       "    <tr>\n",
       "      <th>store_location</th>\n",
       "      <th></th>\n",
       "      <th></th>\n",
       "      <th></th>\n",
       "      <th></th>\n",
       "      <th></th>\n",
       "    </tr>\n",
       "  </thead>\n",
       "  <tbody>\n",
       "    <tr>\n",
       "      <th>Astoria</th>\n",
       "      <td>5.67</td>\n",
       "      <td>3.66</td>\n",
       "      <td>3.94</td>\n",
       "      <td>4.33</td>\n",
       "      <td>4.64</td>\n",
       "    </tr>\n",
       "    <tr>\n",
       "      <th>Hell's Kitchen</th>\n",
       "      <td>5.27</td>\n",
       "      <td>3.73</td>\n",
       "      <td>4.08</td>\n",
       "      <td>4.37</td>\n",
       "      <td>4.75</td>\n",
       "    </tr>\n",
       "    <tr>\n",
       "      <th>Lower Manhattan</th>\n",
       "      <td>5.84</td>\n",
       "      <td>3.97</td>\n",
       "      <td>4.45</td>\n",
       "      <td>4.66</td>\n",
       "      <td>4.93</td>\n",
       "    </tr>\n",
       "  </tbody>\n",
       "</table>\n",
       "</div>"
      ],
      "text/plain": [
       "product_type     Barista Espresso  Drip coffee  Gourmet brewed coffee  \\\n",
       "store_location                                                          \n",
       "Astoria                      5.67         3.66                   3.94   \n",
       "Hell's Kitchen               5.27         3.73                   4.08   \n",
       "Lower Manhattan              5.84         3.97                   4.45   \n",
       "\n",
       "product_type     Organic brewed coffee  Premium brewed coffee  \n",
       "store_location                                                 \n",
       "Astoria                           4.33                   4.64  \n",
       "Hell's Kitchen                    4.37                   4.75  \n",
       "Lower Manhattan                   4.66                   4.93  "
      ]
     },
     "execution_count": 54,
     "metadata": {},
     "output_type": "execute_result"
    }
   ],
   "source": [
    "def get_revenue(df: pd.DataFrame, tp=\"sum\") -> float:\n",
    "    return (df[\"transaction_qty\"] * df[\"unit_price\"]).__getattribute__(tp)()\n",
    "\n",
    "(records[records[\"product_category\"]==\"Coffee\"]\n",
    " .groupby([\"store_location\",\"product_type\"],observed=True)\n",
    " .apply(get_revenue, tp=\"mean\",include_groups=False)\n",
    " .unstack()\n",
    " .round(2)\n",
    ")"
   ]
  },
  {
   "cell_type": "code",
   "execution_count": 59,
   "id": "332579bb-d976-4e37-adf8-123021029501",
   "metadata": {},
   "outputs": [
    {
     "data": {
      "text/plain": [
       "<Axes: xlabel='transaction_datetime'>"
      ]
     },
     "execution_count": 59,
     "metadata": {},
     "output_type": "execute_result"
    },
    {
     "data": {
      "image/png": "[encoded data removed]",
      "text/plain": [
       "<Figure size 640x480 with 1 Axes>"
      ]
     },
     "metadata": {},
     "output_type": "display_data"
    }
   ],
   "source": [
    "(records\n",
    " .groupby([\"store_location\",records[\"transaction_datetime\"].dt.hour])\n",
    " .apply(get_revenue, tp=\"mean\",include_groups=False)\n",
    " .unstack()\n",
    ").T.plot()"
   ]
  }
 ],
 "metadata": {
  "kernelspec": {
   "display_name": "Python 3 (ipykernel)",
   "language": "python",
   "name": "python3"
  },
  "language_info": {
   "codemirror_mode": {
    "name": "ipython",
    "version": 3
   },
   "file_extension": ".py",
   "mimetype": "text/x-python",
   "name": "python",
   "nbconvert_exporter": "python",
   "pygments_lexer": "ipython3",
   "version": "3.13.2"
  }
 },
 "nbformat": 4,
 "nbformat_minor": 5
}
