{
 "cells": [
  {
   "cell_type": "code",
   "execution_count": 3,
   "id": "c34fa736-aadd-476a-85aa-c876012ffc26",
   "metadata": {},
   "outputs": [],
   "source": [
    "import numpy as np\n",
    "import pandas as pd\n",
    "\n",
    "import matplotlib.pyplot as plt"
   ]
  },
  {
   "cell_type": "code",
   "execution_count": 16,
   "id": "0ef23c8f-c639-43b2-8231-7b8f5c63c453",
   "metadata": {},
   "outputs": [
    {
     "data": {
      "text/html": [
       "<div>\n",
       "<style scoped>\n",
       "    .dataframe tbody tr th:only-of-type {\n",
       "        vertical-align: middle;\n",
       "    }\n",
       "\n",
       "    .dataframe tbody tr th {\n",
       "        vertical-align: top;\n",
       "    }\n",
       "\n",
       "    .dataframe thead th {\n",
       "        text-align: right;\n",
       "    }\n",
       "</style>\n",
       "<table border=\"1\" class=\"dataframe\">\n",
       "  <thead>\n",
       "    <tr style=\"text-align: right;\">\n",
       "      <th></th>\n",
       "      <th>transaction_date</th>\n",
       "      <th>transaction_time</th>\n",
       "      <th>transaction_qty</th>\n",
       "      <th>store_id</th>\n",
       "      <th>store_location</th>\n",
       "      <th>product_id</th>\n",
       "      <th>unit_price</th>\n",
       "      <th>product_category</th>\n",
       "      <th>product_type</th>\n",
       "      <th>product_detail</th>\n",
       "    </tr>\n",
       "    <tr>\n",
       "      <th>transaction_id</th>\n",
       "      <th></th>\n",
       "      <th></th>\n",
       "      <th></th>\n",
       "      <th></th>\n",
       "      <th></th>\n",
       "      <th></th>\n",
       "      <th></th>\n",
       "      <th></th>\n",
       "      <th></th>\n",
       "      <th></th>\n",
       "    </tr>\n",
       "  </thead>\n",
       "  <tbody>\n",
       "    <tr>\n",
       "      <th>1</th>\n",
       "      <td>2023-01-01</td>\n",
       "      <td>07:06:11</td>\n",
       "      <td>2</td>\n",
       "      <td>5</td>\n",
       "      <td>Lower Manhattan</td>\n",
       "      <td>32</td>\n",
       "      <td>3.0</td>\n",
       "      <td>Coffee</td>\n",
       "      <td>Gourmet brewed coffee</td>\n",
       "      <td>Ethiopia Rg</td>\n",
       "    </tr>\n",
       "    <tr>\n",
       "      <th>2</th>\n",
       "      <td>2023-01-01</td>\n",
       "      <td>07:08:56</td>\n",
       "      <td>2</td>\n",
       "      <td>5</td>\n",
       "      <td>Lower Manhattan</td>\n",
       "      <td>57</td>\n",
       "      <td>3.1</td>\n",
       "      <td>Tea</td>\n",
       "      <td>Brewed Chai tea</td>\n",
       "      <td>Spicy Eye Opener Chai Lg</td>\n",
       "    </tr>\n",
       "    <tr>\n",
       "      <th>3</th>\n",
       "      <td>2023-01-01</td>\n",
       "      <td>07:14:04</td>\n",
       "      <td>2</td>\n",
       "      <td>5</td>\n",
       "      <td>Lower Manhattan</td>\n",
       "      <td>59</td>\n",
       "      <td>4.5</td>\n",
       "      <td>Drinking Chocolate</td>\n",
       "      <td>Hot chocolate</td>\n",
       "      <td>Dark chocolate Lg</td>\n",
       "    </tr>\n",
       "    <tr>\n",
       "      <th>4</th>\n",
       "      <td>2023-01-01</td>\n",
       "      <td>07:20:24</td>\n",
       "      <td>1</td>\n",
       "      <td>5</td>\n",
       "      <td>Lower Manhattan</td>\n",
       "      <td>22</td>\n",
       "      <td>2.0</td>\n",
       "      <td>Coffee</td>\n",
       "      <td>Drip coffee</td>\n",
       "      <td>Our Old Time Diner Blend Sm</td>\n",
       "    </tr>\n",
       "    <tr>\n",
       "      <th>5</th>\n",
       "      <td>2023-01-01</td>\n",
       "      <td>07:22:41</td>\n",
       "      <td>2</td>\n",
       "      <td>5</td>\n",
       "      <td>Lower Manhattan</td>\n",
       "      <td>57</td>\n",
       "      <td>3.1</td>\n",
       "      <td>Tea</td>\n",
       "      <td>Brewed Chai tea</td>\n",
       "      <td>Spicy Eye Opener Chai Lg</td>\n",
       "    </tr>\n",
       "  </tbody>\n",
       "</table>\n",
       "</div>"
      ],
      "text/plain": [
       "               transaction_date transaction_time  transaction_qty  store_id  \\\n",
       "transaction_id                                                                \n",
       "1                    2023-01-01         07:06:11                2         5   \n",
       "2                    2023-01-01         07:08:56                2         5   \n",
       "3                    2023-01-01         07:14:04                2         5   \n",
       "4                    2023-01-01         07:20:24                1         5   \n",
       "5                    2023-01-01         07:22:41                2         5   \n",
       "\n",
       "                 store_location  product_id  unit_price    product_category  \\\n",
       "transaction_id                                                                \n",
       "1               Lower Manhattan          32         3.0              Coffee   \n",
       "2               Lower Manhattan          57         3.1                 Tea   \n",
       "3               Lower Manhattan          59         4.5  Drinking Chocolate   \n",
       "4               Lower Manhattan          22         2.0              Coffee   \n",
       "5               Lower Manhattan          57         3.1                 Tea   \n",
       "\n",
       "                         product_type               product_detail  \n",
       "transaction_id                                                      \n",
       "1               Gourmet brewed coffee                  Ethiopia Rg  \n",
       "2                     Brewed Chai tea     Spicy Eye Opener Chai Lg  \n",
       "3                       Hot chocolate            Dark chocolate Lg  \n",
       "4                         Drip coffee  Our Old Time Diner Blend Sm  \n",
       "5                     Brewed Chai tea     Spicy Eye Opener Chai Lg  "
      ]
     },
     "execution_count": 16,
     "metadata": {},
     "output_type": "execute_result"
    }
   ],
   "source": [
    "records = pd.read_excel(\"coffee_shop_sales.xlsx\", index_col=\"transaction_id\", nrows=100)\n",
    "records.head()"
   ]
  },
  {
   "cell_type": "code",
   "execution_count": 20,
   "id": "30c7ebd6-e951-4e57-8c6c-82d20928cdb3",
   "metadata": {},
   "outputs": [
    {
     "name": "stdout",
     "output_type": "stream",
     "text": [
      "<class 'pandas.core.frame.DataFrame'>\n",
      "Index: 100 entries, 1 to 100\n",
      "Data columns (total 10 columns):\n",
      " #   Column            Non-Null Count  Dtype         \n",
      "---  ------            --------------  -----         \n",
      " 0   transaction_date  100 non-null    datetime64[ns]\n",
      " 1   transaction_time  100 non-null    object        \n",
      " 2   transaction_qty   100 non-null    int64         \n",
      " 3   store_id          100 non-null    int64         \n",
      " 4   store_location    100 non-null    object        \n",
      " 5   product_id        100 non-null    int64         \n",
      " 6   unit_price        100 non-null    float64       \n",
      " 7   product_category  100 non-null    object        \n",
      " 8   product_type      100 non-null    object        \n",
      " 9   product_detail    100 non-null    object        \n",
      "dtypes: datetime64[ns](1), float64(1), int64(3), object(5)\n",
      "memory usage: 8.6+ KB\n"
     ]
    }
   ],
   "source": [
    "records.info()"
   ]
  },
  {
   "cell_type": "code",
   "execution_count": 58,
   "id": "0d36bee6-c58c-44ee-b282-707b32686880",
   "metadata": {},
   "outputs": [],
   "source": [
    "transaction_datetime = pd.to_datetime(records[\"transaction_date\"].astype(str) + \" \" + records[\"transaction_time\"].astype(str))\n",
    "transaction_datetime = pd.Series(transaction_datetime, name=\"transaction_datetime\")"
   ]
  },
  {
   "cell_type": "code",
   "execution_count": 60,
   "id": "d16759b7-5ae6-47c4-bc0e-f5210c0a9978",
   "metadata": {},
   "outputs": [
    {
     "data": {
      "text/plain": [
       "transaction_id\n",
       "1     2023-01-01 07:06:11\n",
       "2     2023-01-01 07:08:56\n",
       "3     2023-01-01 07:14:04\n",
       "4     2023-01-01 07:20:24\n",
       "5     2023-01-01 07:22:41\n",
       "              ...        \n",
       "96    2023-01-01 10:35:47\n",
       "97    2023-01-01 10:41:53\n",
       "98    2023-01-01 10:47:53\n",
       "99    2023-01-01 10:49:13\n",
       "100   2023-01-01 10:49:51\n",
       "Name: transaction_datetime, Length: 100, dtype: datetime64[ns]"
      ]
     },
     "execution_count": 60,
     "metadata": {},
     "output_type": "execute_result"
    }
   ],
   "source": [
    "transaction_datetime"
   ]
  }
 ],
 "metadata": {
  "kernelspec": {
   "display_name": "Python 3 (ipykernel)",
   "language": "python",
   "name": "python3"
  },
  "language_info": {
   "codemirror_mode": {
    "name": "ipython",
    "version": 3
   },
   "file_extension": ".py",
   "mimetype": "text/x-python",
   "name": "python",
   "nbconvert_exporter": "python",
   "pygments_lexer": "ipython3",
   "version": "3.12.8"
  }
 },
 "nbformat": 4,
 "nbformat_minor": 5
}
