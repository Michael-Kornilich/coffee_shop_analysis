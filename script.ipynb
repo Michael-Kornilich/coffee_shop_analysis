{
 "cells": [
  {
   "cell_type": "code",
   "execution_count": 87,
   "id": "c34fa736-aadd-476a-85aa-c876012ffc26",
   "metadata": {},
   "outputs": [],
   "source": [
    "import pandas as pd\n",
    "import matplotlib.pyplot as plt\n",
    "import kagglehub\n",
    "from pathlib import Path\n",
    "import statistics as st"
   ]
  },
  {
   "cell_type": "code",
   "execution_count": 25,
   "id": "0ef23c8f-c639-43b2-8231-7b8f5c63c453",
   "metadata": {},
   "outputs": [],
   "source": [
    "# import\n",
    "path = Path(kagglehub.dataset_download(\"ahmedabbas757/coffee-sales\"))/\"Coffee Shop Sales.xlsx\"\n",
    "records = pd.read_excel(path, index_col=\"transaction_id\")"
   ]
  },
  {
   "cell_type": "code",
   "execution_count": 26,
   "id": "0d36bee6-c58c-44ee-b282-707b32686880",
   "metadata": {},
   "outputs": [
    {
     "data": {
      "text/html": [
       "<div>\n",
       "<style scoped>\n",
       "    .dataframe tbody tr th:only-of-type {\n",
       "        vertical-align: middle;\n",
       "    }\n",
       "\n",
       "    .dataframe tbody tr th {\n",
       "        vertical-align: top;\n",
       "    }\n",
       "\n",
       "    .dataframe thead th {\n",
       "        text-align: right;\n",
       "    }\n",
       "</style>\n",
       "<table border=\"1\" class=\"dataframe\">\n",
       "  <thead>\n",
       "    <tr style=\"text-align: right;\">\n",
       "      <th></th>\n",
       "      <th>transaction_datetime</th>\n",
       "      <th>transaction_qty</th>\n",
       "      <th>store_id</th>\n",
       "      <th>store_location</th>\n",
       "      <th>product_id</th>\n",
       "      <th>unit_price</th>\n",
       "      <th>product_category</th>\n",
       "      <th>product_type</th>\n",
       "      <th>product_detail</th>\n",
       "    </tr>\n",
       "    <tr>\n",
       "      <th>transaction_id</th>\n",
       "      <th></th>\n",
       "      <th></th>\n",
       "      <th></th>\n",
       "      <th></th>\n",
       "      <th></th>\n",
       "      <th></th>\n",
       "      <th></th>\n",
       "      <th></th>\n",
       "      <th></th>\n",
       "    </tr>\n",
       "  </thead>\n",
       "  <tbody>\n",
       "    <tr>\n",
       "      <th>1</th>\n",
       "      <td>2023-01-01 07:06:11</td>\n",
       "      <td>2</td>\n",
       "      <td>5</td>\n",
       "      <td>Lower Manhattan</td>\n",
       "      <td>32</td>\n",
       "      <td>3.0</td>\n",
       "      <td>Coffee</td>\n",
       "      <td>Gourmet brewed coffee</td>\n",
       "      <td>Ethiopia Rg</td>\n",
       "    </tr>\n",
       "    <tr>\n",
       "      <th>2</th>\n",
       "      <td>2023-01-01 07:08:56</td>\n",
       "      <td>2</td>\n",
       "      <td>5</td>\n",
       "      <td>Lower Manhattan</td>\n",
       "      <td>57</td>\n",
       "      <td>3.1</td>\n",
       "      <td>Tea</td>\n",
       "      <td>Brewed Chai tea</td>\n",
       "      <td>Spicy Eye Opener Chai Lg</td>\n",
       "    </tr>\n",
       "    <tr>\n",
       "      <th>3</th>\n",
       "      <td>2023-01-01 07:14:04</td>\n",
       "      <td>2</td>\n",
       "      <td>5</td>\n",
       "      <td>Lower Manhattan</td>\n",
       "      <td>59</td>\n",
       "      <td>4.5</td>\n",
       "      <td>Drinking Chocolate</td>\n",
       "      <td>Hot chocolate</td>\n",
       "      <td>Dark chocolate Lg</td>\n",
       "    </tr>\n",
       "    <tr>\n",
       "      <th>4</th>\n",
       "      <td>2023-01-01 07:20:24</td>\n",
       "      <td>1</td>\n",
       "      <td>5</td>\n",
       "      <td>Lower Manhattan</td>\n",
       "      <td>22</td>\n",
       "      <td>2.0</td>\n",
       "      <td>Coffee</td>\n",
       "      <td>Drip coffee</td>\n",
       "      <td>Our Old Time Diner Blend Sm</td>\n",
       "    </tr>\n",
       "    <tr>\n",
       "      <th>5</th>\n",
       "      <td>2023-01-01 07:22:41</td>\n",
       "      <td>2</td>\n",
       "      <td>5</td>\n",
       "      <td>Lower Manhattan</td>\n",
       "      <td>57</td>\n",
       "      <td>3.1</td>\n",
       "      <td>Tea</td>\n",
       "      <td>Brewed Chai tea</td>\n",
       "      <td>Spicy Eye Opener Chai Lg</td>\n",
       "    </tr>\n",
       "  </tbody>\n",
       "</table>\n",
       "</div>"
      ],
      "text/plain": [
       "               transaction_datetime  transaction_qty  store_id  \\\n",
       "transaction_id                                                   \n",
       "1               2023-01-01 07:06:11                2         5   \n",
       "2               2023-01-01 07:08:56                2         5   \n",
       "3               2023-01-01 07:14:04                2         5   \n",
       "4               2023-01-01 07:20:24                1         5   \n",
       "5               2023-01-01 07:22:41                2         5   \n",
       "\n",
       "                 store_location  product_id  unit_price    product_category  \\\n",
       "transaction_id                                                                \n",
       "1               Lower Manhattan          32         3.0              Coffee   \n",
       "2               Lower Manhattan          57         3.1                 Tea   \n",
       "3               Lower Manhattan          59         4.5  Drinking Chocolate   \n",
       "4               Lower Manhattan          22         2.0              Coffee   \n",
       "5               Lower Manhattan          57         3.1                 Tea   \n",
       "\n",
       "                         product_type               product_detail  \n",
       "transaction_id                                                      \n",
       "1               Gourmet brewed coffee                  Ethiopia Rg  \n",
       "2                     Brewed Chai tea     Spicy Eye Opener Chai Lg  \n",
       "3                       Hot chocolate            Dark chocolate Lg  \n",
       "4                         Drip coffee  Our Old Time Diner Blend Sm  \n",
       "5                     Brewed Chai tea     Spicy Eye Opener Chai Lg  "
      ]
     },
     "execution_count": 26,
     "metadata": {},
     "output_type": "execute_result"
    }
   ],
   "source": [
    "# transform\n",
    "transaction_datetime = pd.to_datetime(records[\"transaction_date\"].astype(str) + \" \" + records[\"transaction_time\"].astype(str))\n",
    "transaction_datetime = pd.Series(transaction_datetime, name=\"transaction_datetime\",index=None)\n",
    "\n",
    "records = records.reindex([\n",
    "    \"transaction_datetime\", 'transaction_qty', 'store_id', \n",
    "    'store_location', 'product_id', 'unit_price', \n",
    "    'product_category', 'product_type', 'product_detail'], axis=\"columns\")\n",
    "\n",
    "records[\"transaction_datetime\"] = transaction_datetime\n",
    "records.sort_values(\"transaction_datetime\", inplace=True)\n",
    "\n",
    "columns = [\"store_location\",\"product_category\",\"product_type\", \"product_detail\"]\n",
    "records[columns] = records.loc[:,columns].astype(\"category\")\n",
    "\n",
    "records.head()"
   ]
  },
  {
   "cell_type": "code",
   "execution_count": 97,
   "id": "1a658b97-e4f0-4144-9fe8-0821c39e1059",
   "metadata": {},
   "outputs": [
    {
     "data": {
      "text/plain": [
       "store_location\n",
       "Astoria            0.000067\n",
       "Hell's Kitchen     0.000067\n",
       "Lower Manhattan    0.000040\n",
       "dtype: float64"
      ]
     },
     "execution_count": 97,
     "metadata": {},
     "output_type": "execute_result"
    },
    {
     "data": {
      "image/png": "[encoded data removed]",
      "text/plain": [
       "<Figure size 640x480 with 1 Axes>"
      ]
     },
     "metadata": {},
     "output_type": "display_data"
    }
   ],
   "source": [
    "# How does the average monthly transaction quantity vary across different store locations, \n",
    "# and which location exhibits the highest variance in sales volume?\n",
    "agg_data = (records\n",
    "            .groupby([\"store_location\",records[\"transaction_datetime\"].dt.month], observed=True)[\"transaction_qty\"]\n",
    "            .mean()\n",
    "            .unstack()\n",
    "            .round(2)\n",
    "            .T\n",
    "           )\n",
    "agg_data.index = pd.Index([\"Jan\", \"Feb\", \"Mar\", \"Apr\", \"May\", \"Jun\"],name=\"month\")\n",
    "\n",
    "ax = plt.subplot()\n",
    "ax.plot(agg_data, label=agg_data.columns)\n",
    "ax.legend()\n",
    "ax.set_ylim(ax.get_ylim()[0]*0.99,ax.get_ylim()[1]*1.01)\n",
    "ax.set_title(\"Average transaction quantity of each store\");\n",
    "agg_data.agg(\"var\")\n",
    "# The transaction quantities show very little change over the months and all stay in a very small band (small variance)"
   ]
  },
  {
   "cell_type": "code",
   "execution_count": null,
   "id": "26d67c24-014a-46fa-8a39-2b1b6877e017",
   "metadata": {},
   "outputs": [],
   "source": [
    "add"
   ]
  }
 ],
 "metadata": {
  "kernelspec": {
   "display_name": "Python 3 (ipykernel)",
   "language": "python",
   "name": "python3"
  },
  "language_info": {
   "codemirror_mode": {
    "name": "ipython",
    "version": 3
   },
   "file_extension": ".py",
   "mimetype": "text/x-python",
   "name": "python",
   "nbconvert_exporter": "python",
   "pygments_lexer": "ipython3",
   "version": "3.13.2"
  }
 },
 "nbformat": 4,
 "nbformat_minor": 5
}
