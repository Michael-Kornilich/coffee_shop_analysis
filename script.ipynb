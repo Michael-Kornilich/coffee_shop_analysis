{
 "cells": [
  {
   "cell_type": "code",
   "execution_count": 3,
   "id": "c34fa736-aadd-476a-85aa-c876012ffc26",
   "metadata": {},
   "outputs": [],
   "source": [
    "import pandas as pd\n",
    "import numpy as np\n",
    "import matplotlib.pyplot as plt\n",
    "import kagglehub\n",
    "from pathlib import Path\n",
    "\n",
    "pd.set_option('display.float_format', lambda x: '%.3f' % x)"
   ]
  },
  {
   "cell_type": "code",
   "execution_count": 4,
   "id": "0ef23c8f-c639-43b2-8231-7b8f5c63c453",
   "metadata": {},
   "outputs": [],
   "source": [
    "# import\n",
    "path = Path(kagglehub.dataset_download(\"ahmedabbas757/coffee-sales\"))/\"Coffee Shop Sales.xlsx\"\n",
    "raw_records = pd.read_excel(path, index_col=\"transaction_id\")"
   ]
  },
  {
   "cell_type": "code",
   "execution_count": null,
   "id": "0d36bee6-c58c-44ee-b282-707b32686880",
   "metadata": {},
   "outputs": [],
   "source": [
    "# transform\n",
    "transaction_datetime = pd.to_datetime(raw_records[\"transaction_date\"].astype(str) + \" \" + raw_records[\"transaction_time\"].astype(str))\n",
    "transaction_datetime = pd.Series(transaction_datetime, name=\"transaction_datetime\",index=None)\n",
    "\n",
    "# dropped columns: store_id, transaction_date, transaction_time, product_id\n",
    "records = raw_records.reindex([\n",
    "    \"transaction_datetime\", 'transaction_qty', \n",
    "    'store_location', 'unit_price', \n",
    "    'product_category', 'product_type', 'product_detail'], axis=\"columns\")\n",
    "\n",
    "records[\"transaction_datetime\"] = transaction_datetime\n",
    "records.sort_values(\"transaction_datetime\", inplace=True)\n",
    "\n",
    "columns = [\"store_location\",\"product_category\",\"product_type\", \"product_detail\"]\n",
    "records[columns] = records.loc[:,columns].astype(\"category\")\n",
    "\n",
    "records.head()"
   ]
  },
  {
   "cell_type": "markdown",
   "id": "95ad0b60-982c-4739-a10c-ff042aa7b952",
   "metadata": {},
   "source": [
    "---\n",
    "**How does the average monthly transaction quantity vary across different store locations,\\\n",
    "and which location exhibits the highest variance in sales volume?**"
   ]
  },
  {
   "cell_type": "code",
   "execution_count": null,
   "id": "684c2ccb-2222-4925-be9a-045850cd4835",
   "metadata": {},
   "outputs": [],
   "source": [
    "agg_data = (records\n",
    "            .groupby([\"store_location\",records[\"transaction_datetime\"].dt.month], observed=True)[\"transaction_qty\"]\n",
    "            .mean()\n",
    "            .unstack()\n",
    "            .round(2)\n",
    "            .T\n",
    "           )\n",
    "agg_data.index = pd.Index([\"Jan\", \"Feb\", \"Mar\", \"Apr\", \"May\", \"Jun\"],name=\"month\")"
   ]
  },
  {
   "cell_type": "code",
   "execution_count": null,
   "id": "1a658b97-e4f0-4144-9fe8-0821c39e1059",
   "metadata": {},
   "outputs": [],
   "source": [
    "# charting\n",
    "ax = plt.subplot()\n",
    "ax.plot(agg_data, label=agg_data.columns,marker=\".\")\n",
    "ax.legend()\n",
    "ax.set_ylim(ax.get_ylim()[0]*0.99,ax.get_ylim()[1]*1.01)\n",
    "ax.set_title(\"Average transaction quantity of each store\")\n",
    "ax.set_xlabel(\"Month\")\n",
    "ax.set_ylabel(\"Transaction quantity\")\n",
    "agg_data.agg(\"var\")\n",
    "# The transaction quantities show close to no change over the months and all stay in a very small band (small variance)"
   ]
  },
  {
   "cell_type": "markdown",
   "id": "fd353054-8ce2-453c-ac32-99fb9b398944",
   "metadata": {},
   "source": [
    "---\n",
    "**What is the median unit price for each product category,\\\n",
    "and how do the interquartile ranges compare across categories?**"
   ]
  },
  {
   "cell_type": "code",
   "execution_count": null,
   "id": "cf2fe943-37ce-45bc-9913-395d97d2b5b6",
   "metadata": {},
   "outputs": [],
   "source": [
    "quartiles = records.groupby(\"product_category\",observed=True)[\"unit_price\"].quantile([0.25,0.5,0.75]).unstack()\n",
    "\n",
    "print(\"Median unit price for each product category:\")\n",
    "quartiles[0.5]"
   ]
  },
  {
   "cell_type": "code",
   "execution_count": null,
   "id": "b1c47a9f-e896-4a38-8c2c-2b75bd93b2b2",
   "metadata": {},
   "outputs": [],
   "source": [
    "print(\"Interquantile ranges compared:\")\n",
    "(quartiles[0.75] - quartiles[0.25]).sort_values()\n",
    "# some products exibit no price variation accross types and over time (flavours), while other (branded) have a wide price range"
   ]
  },
  {
   "cell_type": "markdown",
   "id": "389b4e57-96ea-4a13-85e4-35b22071fd54",
   "metadata": {},
   "source": [
    "---\n",
    "**Are there any outliers in the transaction quantities based on the IQR method?**"
   ]
  },
  {
   "cell_type": "code",
   "execution_count": null,
   "id": "4b2ad4c2-710a-4ee1-8d9b-f63e06c9ad95",
   "metadata": {},
   "outputs": [],
   "source": [
    "groups = records.groupby(\"product_category\", observed=True, as_index=False)[\"transaction_qty\"]\n",
    "data = {}\n",
    "\n",
    "for category, srs in groups:\n",
    "    data.update({category:srs.array})"
   ]
  },
  {
   "cell_type": "code",
   "execution_count": null,
   "id": "6d50bab3-7df5-46dc-9ec0-6efe059be74b",
   "metadata": {
    "jupyter": {
     "source_hidden": true
    }
   },
   "outputs": [],
   "source": [
    "# charting\n",
    "fig, ax = plt.subplots()\n",
    "ax.boxplot(data.values(), orientation=\"horizontal\", tick_labels=data.keys(), sym=\"*\")\n",
    "ax.set_title(\"Distribution of transaction quantities\")\n",
    "ax.set_xlim(0)\n",
    "ax.set_xlabel(\"Quantity\")\n",
    "ax.set_ylabel(\"Category\");"
   ]
  },
  {
   "cell_type": "markdown",
   "id": "c0d17f15-0eaa-4f78-b8d9-eb824a78e456",
   "metadata": {},
   "source": [
    "---\n",
    "**What is the distribution of total sales per hour of the day,\\\n",
    "and at what time do stores experience the highest and lowest median sales?**"
   ]
  },
  {
   "cell_type": "code",
   "execution_count": null,
   "id": "99724739-bf9c-4297-bba0-73e60d4ca38a",
   "metadata": {},
   "outputs": [],
   "source": [
    "revenue = pd.Series(records[\"unit_price\"] * records[\"transaction_qty\"],name=\"revenue\")\n",
    "revenue.index = pd.Index(records[\"transaction_datetime\"])"
   ]
  },
  {
   "cell_type": "code",
   "execution_count": null,
   "id": "8ea894e8-141b-4b61-80d6-571b43a3349e",
   "metadata": {},
   "outputs": [],
   "source": [
    "mean_revenue = (revenue\n",
    "                .groupby([revenue.index.date, revenue.index.hour])\n",
    "                .sum()\n",
    "                .unstack()\n",
    "                .median(axis=\"rows\")\n",
    "               )"
   ]
  },
  {
   "cell_type": "code",
   "execution_count": null,
   "id": "2321464f-57fd-4613-9c23-e67aaa069887",
   "metadata": {},
   "outputs": [],
   "source": [
    "mean_revenue"
   ]
  },
  {
   "cell_type": "code",
   "execution_count": null,
   "id": "fe104abb-e5b2-4855-a9f1-144c6e465d13",
   "metadata": {},
   "outputs": [],
   "source": [
    "# charting\n",
    "ax = plt.subplot()\n",
    "ax.plot(mean_revenue,color=\"green\",marker=\".\")\n",
    "ax.set_xticks(mean_revenue.index)\n",
    "ax.grid()\n",
    "ax.set_title(\"Median hourly revenue\")\n",
    "ax.set_ylabel(\"Median revenue\")\n",
    "ax.set_yticks(range(\n",
    "    int(mean_revenue.min()), int(mean_revenue.max()*1.1), 50\n",
    "))\n",
    "ax.set_xlabel(\"Hour of the day\");"
   ]
  },
  {
   "cell_type": "markdown",
   "id": "f6893321-257e-4689-bdba-c944852c30a9",
   "metadata": {},
   "source": [
    "---\n",
    "**How do sales fluctuate by day of the week,\\\n",
    "and which weekday has the highest standard deviation in transaction quantities?**"
   ]
  },
  {
   "cell_type": "code",
   "execution_count": null,
   "id": "a361d90a-bbbb-4530-86ea-c58c006144ed",
   "metadata": {},
   "outputs": [],
   "source": [
    "weeks = records[\"transaction_datetime\"].dt.isocalendar()[\"week\"].to_numpy()\n",
    "# correcting the first week of the year from 52 to 1\n",
    "weeks = np.where(weeks==52,1,weeks)\n",
    "days = records[\"transaction_datetime\"].dt.weekday.to_numpy()\n",
    "\n",
    "daily_revenue = revenue.groupby([weeks, days]).sum().unstack()\n",
    "daily_revenue.index.name = \"week\"\n",
    "daily_revenue.columns.name = \"day\"\n",
    "\n",
    "daily_deviation = daily_revenue.std(axis=\"rows\")\n",
    "daily_median_revenue = daily_revenue.median(axis=\"rows\")"
   ]
  },
  {
   "cell_type": "code",
   "execution_count": null,
   "id": "a3029d79-4ae4-4a06-9992-a6df7708bea8",
   "metadata": {
    "jupyter": {
     "source_hidden": true
    }
   },
   "outputs": [],
   "source": [
    "# charting\n",
    "fig, (line, bar) = plt.subplots(1,2,sharex=True, figsize=(19,5))\n",
    "\n",
    "# line setting\n",
    "line.plot(daily_median_revenue,color=\"green\")\n",
    "line.set_xticks(daily_median_revenue.index)\n",
    "line.set_xticklabels([\"Monday\",\"Tuesday\",\"Wednesday\",\"Thursday\",\"Friday\",\"Saturday\",\"Sunday\"],rotation=30)\n",
    "line.grid()\n",
    "line.set_title(\"Median daily revenue\")\n",
    "line.set_xlabel(\"Day of the week\")\n",
    "line.set_ylabel(\"Median revenue\")\n",
    "\n",
    "# bar setting\n",
    "bar.bar(daily_deviation.index, daily_deviation.array, width=0.5,color=\"green\")\n",
    "bar.grid(axis=\"y\")\n",
    "bar.set_xticks(daily_deviation.index)\n",
    "bar.set_xticklabels([\"Monday\",\"Tuesday\",\"Wednesday\",\"Thursday\",\"Friday\",\"Saturday\",\"Sunday\"],rotation=30)\n",
    "bar.set_ylim(\n",
    "    daily_deviation.min()*0.7, daily_deviation.max()*1.05\n",
    ")\n",
    "bar.set_yticks(\n",
    "    range(int(bar.get_ylim()[0]), int(bar.get_ylim()[1]), 50)\n",
    ")\n",
    "bar.set_title(\"Daily standard deviation of the revenue\")\n",
    "bar.set_xlabel(\"Day of the week\")\n",
    "bar.set_ylabel(\"Standard deviation\");"
   ]
  },
  {
   "cell_type": "markdown",
   "id": "48bacae5-eeff-4b8d-8b0a-5230b3ddcda3",
   "metadata": {},
   "source": [
    "---\n",
    "**What is the trend in total revenue over time—does it exhibit any seasonal patterns or anomalies?**"
   ]
  },
  {
   "cell_type": "code",
   "execution_count": null,
   "id": "362f9b7a-e5f9-491a-8a31-a03970f8efb0",
   "metadata": {},
   "outputs": [],
   "source": [
    "# todo: make weeks dynamic\n",
    "grouped_revenue = revenue.groupby(weeks).sum()\n",
    "\n",
    "first_week_of_month = (records\n",
    "                       .groupby(records[\"transaction_datetime\"].dt.month)\n",
    "                       .first()[\"transaction_datetime\"]\n",
    "                       .dt\n",
    "                       .isocalendar()[\"week\"]\n",
    "                       .to_numpy()\n",
    "                      )\n",
    "first_week_of_month = np.where(first_week_of_month==52,1,first_week_of_month)\n",
    "first_week_of_month = pd.Series([\"January\",\"February\", \"March\", \"April\", \"May\", \"June\"],index=first_week_of_month)"
   ]
  },
  {
   "cell_type": "code",
   "execution_count": null,
   "id": "4de26bd0-8efb-4d3c-890e-0835a509a9b9",
   "metadata": {
    "jupyter": {
     "source_hidden": true
    }
   },
   "outputs": [],
   "source": [
    "# charting\n",
    "legend = False\n",
    "fig, ax = plt.subplots(figsize=(15,5))\n",
    "ax.plot(grouped_revenue,color=\"green\",marker=\".\",label=\"Revenue\")\n",
    "ax.set_xticks(grouped_revenue.index)\n",
    "ax.set_xlim(weeks[0]-0.2,weeks[-1]+0.5)\n",
    "ax.set_title(\"Weekly revenue over time\")\n",
    "ax.set_xlabel(\"Week of the year\")\n",
    "ax.set_ylabel(\"Revenue\")\n",
    "ax.grid()\n",
    "\n",
    "for week, month_name in first_week_of_month.items():\n",
    "    ax.axvline(\n",
    "        x=week,\n",
    "        color=\"blue\",\n",
    "        linestyle=\"dotted\",\n",
    "        label=\"Month break\"\n",
    "    )\n",
    "\n",
    "    ax.text(\n",
    "        x=week+0.1,\n",
    "        y=40000,\n",
    "        s=month_name,\n",
    "        color=\"blue\"\n",
    "    )\n",
    "\n",
    "    if not legend:\n",
    "        ax.legend()\n",
    "        legend = True"
   ]
  },
  {
   "cell_type": "markdown",
   "id": "70e11baf-81f6-46d2-86c2-eab45e576a81",
   "metadata": {},
   "source": [
    "---\n",
    "**What is the coefficient of variation (CV) in transaction quantities across different store locations,\\\n",
    "and which store shows the most consistent sales performance?**"
   ]
  },
  {
   "cell_type": "code",
   "execution_count": null,
   "id": "811fc969-c7db-4454-9eae-38dacf226058",
   "metadata": {},
   "outputs": [],
   "source": [
    "stddev = records.groupby(\"store_location\",observed=True)[\"transaction_qty\"].std()\n",
    "mean = records.groupby(\"store_location\",observed=True)[\"transaction_qty\"].mean()\n",
    "\n",
    "cv_coefficient = stddev / mean"
   ]
  },
  {
   "cell_type": "code",
   "execution_count": null,
   "id": "23f8806f-d4f4-471a-8739-d1e8743fa994",
   "metadata": {
    "jupyter": {
     "source_hidden": true
    }
   },
   "outputs": [],
   "source": [
    "# charting\n",
    "ax = plt.subplot()\n",
    "ax.bar(\n",
    "    x=cv_coefficient.index, \n",
    "    height=cv_coefficient.to_numpy(),\n",
    "    width=0.3,\n",
    "    color=\"green\"\n",
    ")\n",
    "ax.set_ylim(0,cv_coefficient.max()*1.3)\n",
    "ax.set_yticks(\n",
    "    np.arange(0,cv_coefficient.max()*1.3,0.05)\n",
    ")\n",
    "ax.set_title(\"Coefficient of variation (CV) of the transaction quantity across the stores\")\n",
    "ax.set_xlabel(\"Store\")\n",
    "ax.set_ylabel(\"Coefficient of variation\")\n",
    "ax.grid(axis=\"y\")"
   ]
  },
  {
   "cell_type": "markdown",
   "id": "5cab37a8-5c9f-489f-bfcd-5e1583f21d90",
   "metadata": {},
   "source": [
    "---\n",
    "**How does the total revenue per store compare,\\\n",
    "and which store is the top performer in terms of both mean and median monthly revenue?**"
   ]
  },
  {
   "cell_type": "code",
   "execution_count": null,
   "id": "f07bb8e2-f942-4642-8b09-96e026725878",
   "metadata": {},
   "outputs": [],
   "source": [
    "def get_monthly_revenue(df:pd.DataFrame) -> pd.Series:\n",
    "    rev = df[\"transaction_qty\"] * df[\"unit_price\"]\n",
    "    return rev.groupby(df[\"transaction_datetime\"].dt.month).sum()\n",
    "    \n",
    "total_monthly_revenue = (records\n",
    "                        .groupby(\"store_location\",observed=True)\n",
    "                        .apply(get_monthly_revenue,include_groups=False)\n",
    "                        .T\n",
    "                       )\n",
    "\n",
    "total_revenue = total_monthly_revenue.sum(axis=\"rows\")"
   ]
  },
  {
   "cell_type": "code",
   "execution_count": null,
   "id": "ae262cee-e6d8-4eac-8884-fcd042f5e7af",
   "metadata": {
    "jupyter": {
     "source_hidden": true
    }
   },
   "outputs": [],
   "source": [
    "# charting\n",
    "fig, (box, bar) = plt.subplots(ncols=2,figsize=(15,5))\n",
    "\n",
    "# boxplots\n",
    "axes = box.boxplot(\n",
    "    x=total_monthly_revenue,\n",
    "    orientation=\"horizontal\",\n",
    "    tick_labels=total_monthly_revenue.columns,\n",
    "    meanline=True,\n",
    "    showmeans=True\n",
    ")\n",
    "box.legend([axes[\"means\"][0], axes[\"medians\"][0]], [\"mean\",\"median\"])\n",
    "box.set_title(\"Distribution of monthly revenue\")\n",
    "box.set_ylabel(\"Store\")\n",
    "box.set_xlabel(\"Monthly revenue\")\n",
    "\n",
    "# bars\n",
    "bar.bar(\n",
    "    x=total_revenue.index,\n",
    "    height=total_revenue.array,\n",
    "    width=0.3,\n",
    "    color=\"green\"\n",
    ")\n",
    "bar.set_title(\"Total revenue to date\")\n",
    "bar.set_xlabel(\"Store\")\n",
    "bar.set_ylabel(\"Revenue\");\n",
    "bar.set_ylim(total_revenue.min()*0.8,total_revenue.max()*1.05);\n",
    "bar.grid(axis=\"y\");"
   ]
  },
  {
   "cell_type": "markdown",
   "id": "fe30156f-c566-419f-82f4-3de0555c71ee",
   "metadata": {},
   "source": [
    "---\n",
    "**Which store has the highest average transaction value,\\\n",
    "and is there a significant difference between the top and bottom performers?**"
   ]
  },
  {
   "cell_type": "code",
   "execution_count": null,
   "id": "7da2e790-3361-49fe-8cf0-f6958512e408",
   "metadata": {},
   "outputs": [],
   "source": [
    "mean_trans_value = records.groupby(\"store_location\",observed=True).apply(\n",
    "    lambda df: (df[\"unit_price\"] * df[\"transaction_qty\"]).mean(),\n",
    "    include_groups=False\n",
    ")"
   ]
  },
  {
   "cell_type": "code",
   "execution_count": null,
   "id": "ea16a145-5635-49c5-9716-21a48a4cf201",
   "metadata": {
    "jupyter": {
     "source_hidden": true
    }
   },
   "outputs": [],
   "source": [
    "# charting\n",
    "ax = plt.subplot()\n",
    "ax.bar(\n",
    "    x=mean_trans_value.index,\n",
    "    height=mean_trans_value.array,\n",
    "    width=0.3,\n",
    "    color=\"green\"\n",
    ")\n",
    "ax.set_title(\"Mean transaction values across the stores\")\n",
    "ax.set_xlabel(\"Store\")\n",
    "ax.set_ylabel(\"Mean transaction value\")\n",
    "ax.set_ylim(mean_trans_value.min()*0.8,mean_trans_value.max()*1.05);\n",
    "ax.grid(axis=\"y\");"
   ]
  },
  {
   "cell_type": "markdown",
   "id": "2420bfe6-c4df-4e5b-92cd-1482966d81e0",
   "metadata": {},
   "source": [
    "---\n",
    "**What is the most frequently purchased product type,\\\n",
    "and how does its sales distribution compare to the least frequently purchased one?**"
   ]
  },
  {
   "cell_type": "code",
   "execution_count": null,
   "id": "645272b3-f2ce-4533-86bd-55745eba07ad",
   "metadata": {},
   "outputs": [],
   "source": [
    "product_sales = records[\"product_category\"].value_counts()"
   ]
  },
  {
   "cell_type": "code",
   "execution_count": null,
   "id": "d0b9133a-1b41-4857-ada9-ac05226d0d38",
   "metadata": {
    "jupyter": {
     "source_hidden": true
    }
   },
   "outputs": [],
   "source": [
    "# charting\n",
    "ax = plt.subplot()\n",
    "ax.bar(\n",
    "    x=product_sales.index,\n",
    "    height=product_sales.array,\n",
    "    width=0.3,\n",
    "    color=\"green\",\n",
    ")\n",
    "ax.set_title(\"Sales numbers of every product category\")\n",
    "ax.set_xlabel(\"Product category\")\n",
    "ax.set_xticklabels(ax.get_xticklabels(), rotation=90)\n",
    "ax.set_ylabel(\"Absolute number of sales\")\n",
    "ax.set_ylim(product_sales.min()*0.8,product_sales.max()*1.05);\n",
    "ax.grid(axis=\"y\")\n",
    "\n",
    "ax2 = ax.twinx();\n",
    "ax2.set_yticks(ax.get_yticks())\n",
    "ax2.set_ylim(*ax.get_ylim())\n",
    "ax2.set_yticklabels(\n",
    "    (ax2.get_yticks()/len(records)).round(4)\n",
    ");\n",
    "ax2.set_ylabel(\"Relative frequency of the category\");"
   ]
  },
  {
   "cell_type": "markdown",
   "id": "0069aebc-1e0d-4f35-8b88-ad99b71524bc",
   "metadata": {},
   "source": [
    "---\n",
    "**Which product category has the highest price variability,\\\n",
    "and what does the standard deviation suggest about price dispersion?**"
   ]
  },
  {
   "cell_type": "code",
   "execution_count": null,
   "id": "4247c2e2-6f9c-4042-ae15-2c751ff9e063",
   "metadata": {},
   "outputs": [],
   "source": [
    "categories_cv = (records\n",
    "                 .groupby(\"product_category\",observed=True)[\"unit_price\"]\n",
    "                 .apply(lambda srs: srs.std() / srs.mean())\n",
    "                ).sort_values(ascending=False)"
   ]
  },
  {
   "cell_type": "code",
   "execution_count": null,
   "id": "68edde03-50be-4f02-b3e7-fba93cddbdbb",
   "metadata": {},
   "outputs": [],
   "source": [
    "# charting\n",
    "ax = plt.subplot()\n",
    "ax.bar(\n",
    "    x=categories_cv.index,\n",
    "    height=categories_cv.array,\n",
    "    width=0.3,\n",
    "    color=\"green\",\n",
    "    #orientation=\"horizontal\"\n",
    ")\n",
    "ax.set_title(\"Coeffient of variance of price for each product category\")\n",
    "ax.set_xlabel(\"Product category\")\n",
    "ax.set_xticklabels(ax.get_xticklabels(), rotation=90)\n",
    "ax.set_ylabel(\"Coeffient of variance\")\n",
    "ax.set_ylim(categories_cv.min()*0.8,categories_cv.max()*1.1)\n",
    "ax.set_yticks(np.arange(0,categories_cv.max()*1.05,0.05))\n",
    "ax.grid(axis=\"y\");"
   ]
  },
  {
   "cell_type": "markdown",
   "id": "1a814d6a-aba3-4dda-9dfd-39734453b8eb",
   "metadata": {},
   "source": [
    "---\n",
    "**Is there a significant difference in average unit price \n",
    "between different product types within the same product category?**"
   ]
  },
  {
   "cell_type": "code",
   "execution_count": null,
   "id": "201774af-e576-472f-a90a-a5c1aa4a733f",
   "metadata": {},
   "outputs": [],
   "source": [
    "data = {}\n",
    "categories = records[\"product_category\"].cat.categories\n",
    "for category, indices in records.groupby(\"product_category\", observed=True)[\"unit_price\"].groups.items():\n",
    "    data.update({category: records.loc[indices,\"unit_price\"].to_numpy()})"
   ]
  },
  {
   "cell_type": "code",
   "execution_count": null,
   "id": "24121518-7314-48d0-988d-4d8d39bf8598",
   "metadata": {
    "jupyter": {
     "source_hidden": true
    }
   },
   "outputs": [],
   "source": [
    "# charting\n",
    "ax = plt.subplot()\n",
    "ax.boxplot(\n",
    "    x=data.values(),\n",
    "    label=data.keys(),\n",
    "    orientation=\"horizontal\"\n",
    ");\n",
    "ax.set_yticklabels(data.keys())\n",
    "ax.set_title(\"Unit price distribution of each product category\")\n",
    "ax.set_ylabel(\"Product category\")\n",
    "ax.set_xlabel(\"Unit price\")\n",
    "ax.set_xticks(range(0,50,5));"
   ]
  },
  {
   "cell_type": "markdown",
   "id": "def7f831-1c19-4cef-85e4-c9f7fd6b251d",
   "metadata": {},
   "source": [
    "---\n",
    "**What percentage of transactions fall into the top 10% of transaction values,\\\n",
    "and how does this compare across store locations?**"
   ]
  },
  {
   "cell_type": "code",
   "execution_count": null,
   "id": "42c8a26f-311a-46cb-88e4-f89f1a71fb99",
   "metadata": {},
   "outputs": [],
   "source": [
    "# 90% quantile of tansaction values = values below which 90% of transactions lie = \n",
    "# values above which 10% of transactions lie\n",
    "transaction_values = records[\"transaction_qty\"] * records[\"unit_price\"]\n",
    "grouped_transaction_values = transaction_values.groupby(records[\"store_location\"],observed=True)\n",
    "store_quantiles = grouped_transaction_values.quantile(0.9)\n",
    "\n",
    "top_percentage = grouped_transaction_values.apply(\n",
    "    lambda df: (df >= store_quantiles.loc[df.name]).value_counts(normalize=True).loc[True].round(4)\n",
    ")\n",
    "\n",
    "pd.DataFrame({\n",
    "    \"90th quantile (Dollar amount)\":store_quantiles,\n",
    "    \"Percentage of transactions in the top 10%\":top_percentage\n",
    "})"
   ]
  }
 ],
 "metadata": {
  "kernelspec": {
   "display_name": "Python 3 (ipykernel)",
   "language": "python",
   "name": "python3"
  },
  "language_info": {
   "codemirror_mode": {
    "name": "ipython",
    "version": 3
   },
   "file_extension": ".py",
   "mimetype": "text/x-python",
   "name": "python",
   "nbconvert_exporter": "python",
   "pygments_lexer": "ipython3",
   "version": "3.13.2"
  }
 },
 "nbformat": 4,
 "nbformat_minor": 5
}
